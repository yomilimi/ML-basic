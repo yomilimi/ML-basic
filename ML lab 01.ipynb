{
 "cells": [
  {
   "cell_type": "markdown",
   "metadata": {},
   "source": [
    "1. start tensorflow"
   ]
  },
  {
   "cell_type": "code",
   "execution_count": 3,
   "metadata": {},
   "outputs": [
    {
     "name": "stdout",
     "output_type": "stream",
     "text": [
      "b'Hello, TensorFlow!'\n"
     ]
    }
   ],
   "source": [
    "import tensorflow as tf\n",
    "#create a constant op\n",
    "#this op is added as a node to the default graph\n",
    "hello=tf.constant('Hello, TensorFlow!')\n",
    "print(hello.numpy())"
   ]
  },
  {
   "cell_type": "code",
   "execution_count": 4,
   "metadata": {},
   "outputs": [
    {
     "name": "stdout",
     "output_type": "stream",
     "text": [
      "node1: tf.Tensor(3.0, shape=(), dtype=float32) node2 tf.Tensor(4.0, shape=(), dtype=float32)\n",
      "node3: tf.Tensor(7.0, shape=(), dtype=float32)\n",
      "node1: 3.0 node2: 4.0\n",
      "node3: 7.0\n"
     ]
    }
   ],
   "source": [
    "#computational Graph\n",
    "node1 = tf.constant(3.0, tf.float32)\n",
    "node2 = tf.constant(4.0, tf.float32)\n",
    "node3 = tf.add(node1, node2)\n",
    "\n",
    "print(\"node1:\",node1, \"node2\", node2)\n",
    "print(\"node3:\",node3)\n",
    "\n",
    "print(\"node1:\", node1.numpy(), \"node2:\", node2.numpy())\n",
    "print(\"node3:\", node3.numpy())"
   ]
  },
  {
   "cell_type": "code",
   "execution_count": 5,
   "metadata": {},
   "outputs": [
    {
     "name": "stdout",
     "output_type": "stream",
     "text": [
      "7.5\n",
      "[3. 7.]\n"
     ]
    }
   ],
   "source": [
    "\"\"\"#placeholder였는데... 이젠 안씀\n",
    "a = tf.placeholder(tf.float32)\n",
    "b = tf.placeholder(tf.float32)\n",
    "adder_node = a+b\n",
    "\n",
    "print(sess.run(adder_node, feed_dict={a:3, b:4.5}))\n",
    "print(sess.run(adder_node, feed_dict={a:[1,3], b:[2,4]}))\"\"\"\n",
    "\n",
    "#즉시 실행\n",
    "a = tf.constant(3.0, tf.float32)\n",
    "b = tf.constant(4.5, tf.float32)\n",
    "adder_node = a + b\n",
    "\n",
    "print(adder_node.numpy())\n",
    "\n",
    "a = tf.constant([1,3], tf.float32)\n",
    "b = tf.constant([2,4], tf.float32)\n",
    "adder_node = a + b\n",
    "print(adder_node.numpy())\n"
   ]
  },
  {
   "cell_type": "markdown",
   "metadata": {},
   "source": [
    "2. TensorFlow로 간단한 linear regresson 구현"
   ]
  },
  {
   "cell_type": "code",
   "execution_count": 6,
   "metadata": {},
   "outputs": [
    {
     "name": "stdout",
     "output_type": "stream",
     "text": [
      "0 7.2993684 [-0.16863056] [0.13092566]\n",
      "20 0.104035795 [0.68479824] [0.47603747]\n",
      "40 0.035323355 [0.77564496] [0.4871126]\n",
      "60 0.031544805 [0.79342854] [0.467405]\n",
      "80 0.028644642 [0.803826] [0.44574198]\n",
      "100 0.026015459 [0.8131111] [0.42482254]\n",
      "120 0.023627654 [0.8219005] [0.4048602]\n",
      "140 0.021459028 [0.8302711] [0.38583353]\n",
      "160 0.019489428 [0.8382478] [0.3677008]\n",
      "180 0.01770062 [0.8458495] [0.35042024]\n",
      "200 0.016075984 [0.85309404] [0.33395174]\n",
      "220 0.014600462 [0.85999805] [0.31825724]\n",
      "240 0.01326039 [0.8665776] [0.30330032]\n",
      "260 0.012043283 [0.87284803] [0.28904638]\n",
      "280 0.010937899 [0.8788237] [0.27546227]\n",
      "300 0.009933977 [0.88451856] [0.26251653]\n",
      "320 0.009022205 [0.88994575] [0.2501792]\n",
      "340 0.008194101 [0.8951179] [0.23842172]\n",
      "360 0.0074420124 [0.90004694] [0.22721678]\n",
      "380 0.006758956 [0.9047444] [0.21653843]\n",
      "400 0.006138601 [0.90922105] [0.20636193]\n",
      "420 0.0055751726 [0.9134873] [0.1966637]\n",
      "440 0.005063464 [0.917553] [0.18742125]\n",
      "460 0.004598717 [0.9214278] [0.17861313]\n",
      "480 0.0041766376 [0.9251204] [0.17021896]\n",
      "500 0.0037932817 [0.9286395] [0.16221926]\n",
      "520 0.0034451175 [0.9319931] [0.15459555]\n",
      "540 0.0031289132 [0.9351892] [0.14733012]\n",
      "560 0.002841729 [0.938235] [0.14040618]\n",
      "580 0.0025809072 [0.9411378] [0.13380766]\n",
      "600 0.0023440234 [0.9439041] [0.12751918]\n",
      "620 0.0021288723 [0.9465404] [0.12152623]\n",
      "640 0.0019334764 [0.94905293] [0.11581493]\n",
      "660 0.0017560128 [0.95144725] [0.11037197]\n",
      "680 0.0015948449 [0.953729] [0.10518489]\n",
      "700 0.0014484545 [0.95590353] [0.1002416]\n",
      "720 0.0013155093 [0.95797586] [0.09553062]\n",
      "740 0.0011947717 [0.959951] [0.09104101]\n",
      "760 0.0010851071 [0.96183306] [0.08676239]\n",
      "780 0.0009855126 [0.9636268] [0.08268488]\n",
      "800 0.0008950603 [0.96533614] [0.07879902]\n",
      "820 0.0008129065 [0.96696526] [0.07509577]\n",
      "840 0.00073829666 [0.9685177] [0.07156654]\n",
      "860 0.000670533 [0.9699974] [0.06820317]\n",
      "880 0.0006089846 [0.9714074] [0.06499782]\n",
      "900 0.00055309036 [0.97275114] [0.06194314]\n",
      "920 0.00050232466 [0.9740317] [0.05903204]\n",
      "940 0.00045622024 [0.97525215] [0.05625776]\n",
      "960 0.0004143467 [0.97641516] [0.05361383]\n",
      "980 0.00037631553 [0.97752357] [0.05109419]\n",
      "1000 0.00034177848 [0.9785798] [0.04869299]\n",
      "1020 0.0003104078 [0.9795864] [0.04640464]\n",
      "1040 0.00028191725 [0.9805459] [0.04422377]\n",
      "1060 0.00025604182 [0.98146015] [0.04214542]\n",
      "1080 0.00023254172 [0.98233145] [0.04016472]\n",
      "1100 0.00021119633 [0.9831618] [0.03827713]\n",
      "1120 0.00019181128 [0.9839532] [0.03647825]\n",
      "1140 0.00017420649 [0.9847073] [0.03476389]\n",
      "1160 0.00015821717 [0.985426] [0.03313011]\n",
      "1180 0.00014369673 [0.986111] [0.03157312]\n",
      "1200 0.00013050747 [0.98676366] [0.03008929]\n",
      "1220 0.000118528646 [0.9873857] [0.02867521]\n",
      "1240 0.00010765029 [0.9879785] [0.0273276]\n",
      "1260 9.77697e-05 [0.98854345] [0.02604333]\n",
      "1280 8.8795445e-05 [0.98908186] [0.0248194]\n",
      "1300 8.064639e-05 [0.98959506] [0.02365302]\n",
      "1320 7.324415e-05 [0.9900842] [0.02254134]\n",
      "1340 6.6520595e-05 [0.99055016] [0.02148192]\n",
      "1360 6.0415045e-05 [0.9909943] [0.02047231]\n",
      "1380 5.4869462e-05 [0.99141747] [0.01951016]\n",
      "1400 4.983306e-05 [0.99182075] [0.01859326]\n",
      "1420 4.525899e-05 [0.99220514] [0.01771946]\n",
      "1440 4.1105533e-05 [0.9925715] [0.01688672]\n",
      "1460 3.7333044e-05 [0.99292064] [0.01609309]\n",
      "1480 3.3906297e-05 [0.99325335] [0.01533677]\n",
      "1500 3.0793988e-05 [0.99357045] [0.01461598]\n",
      "1520 2.7967746e-05 [0.9938726] [0.01392906]\n",
      "1540 2.5400877e-05 [0.9941606] [0.01327443]\n",
      "1560 2.3069146e-05 [0.994435] [0.01265059]\n",
      "1580 2.0951484e-05 [0.9946965] [0.01205605]\n",
      "1600 1.9028994e-05 [0.99494565] [0.01148951]\n",
      "1620 1.72825e-05 [0.99518335] [0.01094955]\n",
      "1640 1.5696241e-05 [0.9954096] [0.01043496]\n",
      "1660 1.4255637e-05 [0.9956254] [0.00994457]\n",
      "1680 1.2947282e-05 [0.99583095] [0.00947722]\n",
      "1700 1.17586305e-05 [0.9960269] [0.00903185]\n",
      "1720 1.0679192e-05 [0.99621356] [0.00860738]\n",
      "1740 9.699385e-06 [0.99639153] [0.00820289]\n",
      "1760 8.80906e-06 [0.99656105] [0.0078174]\n",
      "1780 8.00104e-06 [0.9967227] [0.00745006]\n",
      "1800 7.266186e-06 [0.9968767] [0.00709994]\n",
      "1820 6.5996683e-06 [0.9970235] [0.00676627]\n",
      "1840 5.9938575e-06 [0.99716336] [0.00644829]\n",
      "1860 5.443688e-06 [0.9972967] [0.00614526]\n",
      "1880 4.943781e-06 [0.9974237] [0.00585645]\n",
      "1900 4.4900776e-06 [0.99754477] [0.00558124]\n",
      "1920 4.077979e-06 [0.9976602] [0.00531895]\n",
      "1940 3.7040384e-06 [0.99777013] [0.00506898]\n",
      "1960 3.3638516e-06 [0.99787486] [0.00483078]\n",
      "1980 3.0552274e-06 [0.9979748] [0.00460377]\n"
     ]
    }
   ],
   "source": [
    "#build graph: H(x)=Wx+b\n",
    "x_train = [1, 2, 3]\n",
    "y_train = [1, 2, 3]\n",
    "\n",
    "W = tf.Variable(tf.random.normal([1]), name='weight') #random한 값을 1차원으로 줌\n",
    "b = tf.Variable(tf.random.normal([1]), name='bias')\n",
    "\n",
    "#가설 함수 정의\n",
    "def hypothesis(x):\n",
    "    return x*W + b #our hypothesis XW+b\n",
    "\n",
    "#cost/loss function\n",
    "def loss_function(hypothesis, y):\n",
    "    return tf.reduce_mean(tf.square(hypothesis-y_train)) #square: 제곱, reduce_mean: 평균\n",
    "\n",
    "#gradient descent: minimize cost\n",
    "optimizer = tf.optimizers.SGD(learning_rate=0.01)\n",
    "#train = optimizer.minimize(cost) tensorflow 2.x에서는 minimize 사용안됨\n",
    "\n",
    "# 학습\n",
    "epochs = 2000\n",
    "for step in range(epochs):\n",
    "    # Gradient 계산 및 변수 업데이트\n",
    "    with tf.GradientTape() as tape:\n",
    "        current_loss = loss_function(hypothesis(x_train), y_train)\n",
    "    gradients = tape.gradient(current_loss, [W, b])\n",
    "    optimizer.apply_gradients(zip(gradients, [W, b]))\n",
    "    \n",
    "    # 로그 출력\n",
    "    if step % 20 == 0:\n",
    "        print(step, current_loss.numpy(), W.numpy(), b.numpy())\n"
   ]
  },
  {
   "cell_type": "markdown",
   "metadata": {},
   "source": [
    "결과\n",
    "정답: W=1, b=0\n",
    "loss가 점점 줄어들고 W=1에, b=0에 수렴함"
   ]
  },
  {
   "cell_type": "markdown",
   "metadata": {},
   "source": [
    "3. linear regresson의 cost 최소화의 TensorFlow 구현"
   ]
  },
  {
   "cell_type": "code",
   "execution_count": 7,
   "metadata": {},
   "outputs": [
    {
     "data": {
      "image/png": "[encoded data removed]",
      "text/plain": [
       "<Figure size 640x480 with 1 Axes>"
      ]
     },
     "metadata": {},
     "output_type": "display_data"
    }
   ],
   "source": [
    "import tensorflow as tf\n",
    "import matplotlib.pyplot as plt\n",
    "\n",
    "X = [1, 2, 3]\n",
    "Y = [1, 2, 3]\n",
    "\n",
    "W = tf.Variable(tf.random.normal([1]), name='weight')\n",
    "hypothesis = X * W\n",
    "\n",
    "cost = tf.reduce_mean(tf.square(hypothesis - Y))\n",
    "optimizer = tf.optimizers.SGD(learning_rate=0.01)\n",
    "\n",
    "W_val = []\n",
    "cost_val = []\n",
    "\n",
    "for i in range(-30, 50):\n",
    "    feed_W = i * 0.1\n",
    "    W.assign([feed_W])\n",
    "    curr_cost = cost.numpy()\n",
    "    curr_W = W.numpy()[0]\n",
    "    W_val.append(curr_W)\n",
    "    cost_val.append(curr_cost)\n",
    "\n",
    "plt.plot(W_val, cost_val)\n",
    "plt.xlabel('W')\n",
    "plt.ylabel('Cost')\n",
    "plt.title('Cost vs. W')\n",
    "plt.show()"
   ]
  },
  {
   "cell_type": "code",
   "execution_count": 8,
   "metadata": {},
   "outputs": [
    {
     "ename": "AttributeError",
     "evalue": "module 'tensorflow' has no attribute 'placeholder'",
     "output_type": "error",
     "traceback": [
      "\u001b[1;31m---------------------------------------------------------------------------\u001b[0m",
      "\u001b[1;31mAttributeError\u001b[0m                            Traceback (most recent call last)",
      "Cell \u001b[1;32mIn[8], line 7\u001b[0m\n\u001b[0;32m      4\u001b[0m X \u001b[39m=\u001b[39m [\u001b[39m1\u001b[39m, \u001b[39m2\u001b[39m, \u001b[39m3\u001b[39m]\n\u001b[0;32m      5\u001b[0m Y \u001b[39m=\u001b[39m [\u001b[39m1\u001b[39m, \u001b[39m2\u001b[39m, \u001b[39m3\u001b[39m]\n\u001b[1;32m----> 7\u001b[0m W\u001b[39m=\u001b[39mtf\u001b[39m.\u001b[39mplaceholder(tf\u001b[39m.\u001b[39mfloat32)\n\u001b[0;32m      8\u001b[0m hypothesis \u001b[39m=\u001b[39m X\u001b[39m*\u001b[39mW\n\u001b[0;32m     10\u001b[0m cost \u001b[39m=\u001b[39m tf\u001b[39m.\u001b[39mreduce_mean(tf\u001b[39m.\u001b[39msquare(hypothesis \u001b[39m-\u001b[39m Y))\n",
      "\u001b[1;31mAttributeError\u001b[0m: module 'tensorflow' has no attribute 'placeholder'"
     ]
    }
   ],
   "source": [
    "import tensorflow as tf\n",
    "import matplotlib.pyplot as plt\n",
    "\n",
    "X = [1, 2, 3]\n",
    "Y = [1, 2, 3]\n",
    "\n",
    "W=tf.placeholder(tf.float32)\n",
    "hypothesis = X*W\n",
    "\n",
    "cost = tf.reduce_mean(tf.square(hypothesis - Y))\n",
    "sess = tf.Session()\n",
    "\n",
    "sess.run(tf.global_variables_initializer())\n",
    "\n",
    "W_val = []\n",
    "cost_val = []\n",
    "for i in range(-30,50):\n",
    "    feed_W = i*0.1\n",
    "    curr_cost, curr_W = sess.run([cost,W], feed_dict={W: feed_w})\n",
    "    W_val.append(curr_W)\n",
    "    cost_val.append(curr_cost)\n",
    "\n",
    "plt.plot(W_val, cost_val)\n",
    "plt.show()"
   ]
  },
  {
   "cell_type": "code",
   "execution_count": 9,
   "metadata": {},
   "outputs": [
    {
     "ename": "TypeError",
     "evalue": "in user code:\n\n    File \"C:\\Users\\admin\\AppData\\Local\\Temp\\ipykernel_17644\\48730494.py\", line 12, in hypothesis  *\n        return X * W\n\n    TypeError: Input 'y' of 'Mul' Op has type float32 that does not match type float64 of argument 'x'.\n",
     "output_type": "error",
     "traceback": [
      "\u001b[1;31m---------------------------------------------------------------------------\u001b[0m",
      "\u001b[1;31mTypeError\u001b[0m                                 Traceback (most recent call last)",
      "Cell \u001b[1;32mIn[9], line 22\u001b[0m\n\u001b[0;32m     20\u001b[0m \u001b[39mfor\u001b[39;00m i \u001b[39min\u001b[39;00m \u001b[39mrange\u001b[39m(\u001b[39m-\u001b[39m\u001b[39m30\u001b[39m,\u001b[39m50\u001b[39m):\n\u001b[0;32m     21\u001b[0m     W\u001b[39m.\u001b[39massign(i\u001b[39m*\u001b[39m\u001b[39m0.1\u001b[39m)\n\u001b[1;32m---> 22\u001b[0m     curr_cost \u001b[39m=\u001b[39m cost_func()\n\u001b[0;32m     23\u001b[0m     W_val\u001b[39m.\u001b[39mappend(W\u001b[39m.\u001b[39mnumpy())\n\u001b[0;32m     24\u001b[0m     cost_val\u001b[39m.\u001b[39mappend(curr_cost\u001b[39m.\u001b[39mnumpy())\n",
      "Cell \u001b[1;32mIn[9], line 15\u001b[0m, in \u001b[0;36mcost_func\u001b[1;34m()\u001b[0m\n\u001b[0;32m     14\u001b[0m \u001b[39mdef\u001b[39;00m \u001b[39mcost_func\u001b[39m():\n\u001b[1;32m---> 15\u001b[0m     \u001b[39mreturn\u001b[39;00m tf\u001b[39m.\u001b[39mreduce_mean(tf\u001b[39m.\u001b[39msquare(hypothesis(X) \u001b[39m-\u001b[39m Y))\n",
      "File \u001b[1;32m~\\AppData\\Roaming\\Python\\Python311\\site-packages\\tensorflow\\python\\util\\traceback_utils.py:153\u001b[0m, in \u001b[0;36mfilter_traceback.<locals>.error_handler\u001b[1;34m(*args, **kwargs)\u001b[0m\n\u001b[0;32m    151\u001b[0m \u001b[39mexcept\u001b[39;00m \u001b[39mException\u001b[39;00m \u001b[39mas\u001b[39;00m e:\n\u001b[0;32m    152\u001b[0m   filtered_tb \u001b[39m=\u001b[39m _process_traceback_frames(e\u001b[39m.\u001b[39m__traceback__)\n\u001b[1;32m--> 153\u001b[0m   \u001b[39mraise\u001b[39;00m e\u001b[39m.\u001b[39mwith_traceback(filtered_tb) \u001b[39mfrom\u001b[39;00m \u001b[39mNone\u001b[39;00m\n\u001b[0;32m    154\u001b[0m \u001b[39mfinally\u001b[39;00m:\n\u001b[0;32m    155\u001b[0m   \u001b[39mdel\u001b[39;00m filtered_tb\n",
      "File \u001b[1;32m~\\AppData\\Local\\Temp\\__autograph_generated_filedfs3z938.py:12\u001b[0m, in \u001b[0;36mouter_factory.<locals>.inner_factory.<locals>.tf__hypothesis\u001b[1;34m(X)\u001b[0m\n\u001b[0;32m     10\u001b[0m \u001b[39mtry\u001b[39;00m:\n\u001b[0;32m     11\u001b[0m     do_return \u001b[39m=\u001b[39m \u001b[39mTrue\u001b[39;00m\n\u001b[1;32m---> 12\u001b[0m     retval_ \u001b[39m=\u001b[39m ag__\u001b[39m.\u001b[39mld(X) \u001b[39m*\u001b[39m ag__\u001b[39m.\u001b[39mld(W)\n\u001b[0;32m     13\u001b[0m \u001b[39mexcept\u001b[39;00m:\n\u001b[0;32m     14\u001b[0m     do_return \u001b[39m=\u001b[39m \u001b[39mFalse\u001b[39;00m\n",
      "\u001b[1;31mTypeError\u001b[0m: in user code:\n\n    File \"C:\\Users\\admin\\AppData\\Local\\Temp\\ipykernel_17644\\48730494.py\", line 12, in hypothesis  *\n        return X * W\n\n    TypeError: Input 'y' of 'Mul' Op has type float32 that does not match type float64 of argument 'x'.\n"
     ]
    }
   ],
   "source": [
    "import tensorflow as tf\n",
    "import matplotlib.pyplot as plt\n",
    "import numpy as np\n",
    "\n",
    "X = np.array([1., 2., 3.])\n",
    "Y = np.array([1., 2., 3.])\n",
    "\n",
    "W = tf.Variable(0.)\n",
    "\n",
    "@tf.function\n",
    "def hypothesis(X):\n",
    "    return X * W\n",
    "\n",
    "def cost_func():\n",
    "    return tf.reduce_mean(tf.square(hypothesis(X) - Y))\n",
    "\n",
    "W_val = []\n",
    "cost_val = []\n",
    "\n",
    "for i in range(-30,50):\n",
    "    W.assign(i*0.1)\n",
    "    curr_cost = cost_func()\n",
    "    W_val.append(W.numpy())\n",
    "    cost_val.append(curr_cost.numpy())\n",
    "\n",
    "plt.plot(W_val, cost_val)\n",
    "plt.show()\n"
   ]
  }
 ],
 "metadata": {
  "kernelspec": {
   "display_name": "base",
   "language": "python",
   "name": "python3"
  },
  "language_info": {
   "codemirror_mode": {
    "name": "ipython",
    "version": 3
   },
   "file_extension": ".py",
   "mimetype": "text/x-python",
   "name": "python",
   "nbconvert_exporter": "python",
   "pygments_lexer": "ipython3",
   "version": "3.11.3"
  },
  "orig_nbformat": 4
 },
 "nbformat": 4,
 "nbformat_minor": 2
}
