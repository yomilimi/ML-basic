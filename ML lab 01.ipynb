{
 "cells": [
  {
   "cell_type": "markdown",
   "metadata": {},
   "source": [
    "1. start tensorflow"
   ]
  },
  {
   "cell_type": "code",
   "execution_count": 39,
   "metadata": {},
   "outputs": [
    {
     "name": "stdout",
     "output_type": "stream",
     "text": [
      "b'Hello, TensorFlow!'\n"
     ]
    }
   ],
   "source": [
    "import tensorflow as tf\n",
    "#create a constant op\n",
    "#this op is added as a node to the default graph\n",
    "hello=tf.constant('Hello, TensorFlow!')\n",
    "print(hello.numpy())"
   ]
  },
  {
   "cell_type": "code",
   "execution_count": 19,
   "metadata": {},
   "outputs": [
    {
     "name": "stdout",
     "output_type": "stream",
     "text": [
      "node1: tf.Tensor(3.0, shape=(), dtype=float32) node2 tf.Tensor(4.0, shape=(), dtype=float32)\n",
      "node3: tf.Tensor(7.0, shape=(), dtype=float32)\n",
      "node1: 3.0 node2: 4.0\n",
      "node3: 7.0\n"
     ]
    }
   ],
   "source": [
    "#computational Graph\n",
    "node1 = tf.constant(3.0, tf.float32)\n",
    "node2 = tf.constant(4.0, tf.float32)\n",
    "node3 = tf.add(node1, node2)\n",
    "\n",
    "print(\"node1:\",node1, \"node2\", node2)\n",
    "print(\"node3:\",node3)\n",
    "\n",
    "print(\"node1:\", node1.numpy(), \"node2:\", node2.numpy())\n",
    "print(\"node3:\", node3.numpy())"
   ]
  },
  {
   "cell_type": "code",
   "execution_count": 20,
   "metadata": {},
   "outputs": [
    {
     "name": "stdout",
     "output_type": "stream",
     "text": [
      "7.5\n",
      "[3. 7.]\n"
     ]
    }
   ],
   "source": [
    "\"\"\"#placeholder였는데... 이젠 안씀\n",
    "a = tf.placeholder(tf.float32)\n",
    "b = tf.placeholder(tf.float32)\n",
    "adder_node = a+b\n",
    "\n",
    "print(sess.run(adder_node, feed_dict={a:3, b:4.5}))\n",
    "print(sess.run(adder_node, feed_dict={a:[1,3], b:[2,4]}))\"\"\"\n",
    "\n",
    "#즉시 실행\n",
    "a = tf.constant(3.0, tf.float32)\n",
    "b = tf.constant(4.5, tf.float32)\n",
    "adder_node = a + b\n",
    "\n",
    "print(adder_node.numpy())\n",
    "\n",
    "a = tf.constant([1,3], tf.float32)\n",
    "b = tf.constant([2,4], tf.float32)\n",
    "adder_node = a + b\n",
    "print(adder_node.numpy())\n"
   ]
  },
  {
   "cell_type": "markdown",
   "metadata": {},
   "source": [
    "2. TensorFlow로 간단한 linear regresson 구현"
   ]
  },
  {
   "cell_type": "code",
   "execution_count": 38,
   "metadata": {},
   "outputs": [
    {
     "name": "stdout",
     "output_type": "stream",
     "text": [
      "0 5.835009 [0.63516974] [-1.4047259]\n",
      "20 0.19376607 [1.3586385] [-1.0279963]\n",
      "40 0.12968968 [1.4090395] [-0.95009834]\n",
      "60 0.11736653 [1.3962201] [-0.9026302]\n",
      "80 0.10659036 [1.3782091] [-0.85994166]\n",
      "100 0.09680704 [1.3604927] [-0.819502]\n",
      "120 0.087921746 [1.3435564] [-0.780986]\n",
      "140 0.07985192 [1.3274112] [-0.7442823]\n",
      "160 0.07252279 [1.312024] [-0.7093038]\n",
      "180 0.06586638 [1.2973601] [-0.6759692]\n",
      "200 0.059820876 [1.2833852] [-0.6442011]\n",
      "220 0.05433026 [1.2700671] [-0.6139259]\n",
      "240 0.049343616 [1.2573749] [-0.5850736]\n",
      "260 0.044814676 [1.2452793] [-0.5575773]\n",
      "280 0.040701386 [1.233752] [-0.53137326]\n",
      "300 0.036965635 [1.2227663] [-0.50640064]\n",
      "320 0.033572793 [1.2122973] [-0.48260164]\n",
      "340 0.030491365 [1.2023201] [-0.45992112]\n",
      "360 0.027692737 [1.1928117] [-0.43830654]\n",
      "380 0.025151016 [1.1837505] [-0.41770783]\n",
      "400 0.022842536 [1.1751149] [-0.3980771]\n",
      "420 0.020745954 [1.166885] [-0.37936893]\n",
      "440 0.018841827 [1.1590421] [-0.36154002]\n",
      "460 0.017112447 [1.1515677] [-0.34454897]\n",
      "480 0.015541788 [1.1444447] [-0.32835647]\n",
      "500 0.014115315 [1.1376562] [-0.312925]\n",
      "520 0.012819738 [1.1311868] [-0.29821864]\n",
      "540 0.0116431145 [1.1250217] [-0.28420347]\n",
      "560 0.010574464 [1.1191461] [-0.27084708]\n",
      "580 0.0096039055 [1.1135467] [-0.25811827]\n",
      "600 0.00872241 [1.1082104] [-0.24598773]\n",
      "620 0.007921828 [1.1031249] [-0.23442726]\n",
      "640 0.0071947426 [1.0982783] [-0.22340992]\n",
      "660 0.0065343776 [1.0936598] [-0.2129105]\n",
      "680 0.0059346166 [1.0892581] [-0.20290446]\n",
      "700 0.005389919 [1.0850632] [-0.19336872]\n",
      "720 0.0048952103 [1.0810654] [-0.1842811]\n",
      "740 0.0044459053 [1.0772557] [-0.1756205]\n",
      "760 0.004037838 [1.073625] [-0.1673669]\n",
      "780 0.0036672316 [1.0701649] [-0.15950128]\n",
      "800 0.0033306314 [1.0668674] [-0.15200527]\n",
      "820 0.0030249387 [1.063725] [-0.14486161]\n",
      "840 0.0027472975 [1.06073] [-0.13805369]\n",
      "860 0.0024951359 [1.0578759] [-0.13156557]\n",
      "880 0.0022661246 [1.055156] [-0.1253825]\n",
      "900 0.0020581305 [1.0525638] [-0.11948997]\n",
      "920 0.0018692267 [1.0500935] [-0.11387441]\n",
      "940 0.0016976645 [1.0477394] [-0.10852274]\n",
      "960 0.0015418449 [1.0454957] [-0.10342257]\n",
      "980 0.0014003264 [1.0433577] [-0.09856216]\n",
      "1000 0.0012718037 [1.0413203] [-0.09393018]\n",
      "1020 0.0011550706 [1.039378] [-0.08951591]\n",
      "1040 0.0010490561 [1.0375276] [-0.08530896]\n",
      "1060 0.00095277216 [1.0357639] [-0.08129972]\n",
      "1080 0.0008653221 [1.0340831] [-0.07747895]\n",
      "1100 0.0007858998 [1.0324813] [-0.07383773]\n",
      "1120 0.0007137681 [1.0309548] [-0.07036763]\n",
      "1140 0.00064825756 [1.0295001] [-0.06706063]\n",
      "1160 0.00058875367 [1.0281137] [-0.06390905]\n",
      "1180 0.0005347196 [1.0267924] [-0.06090559]\n",
      "1200 0.00048563807 [1.0255333] [-0.05804323]\n",
      "1220 0.00044106634 [1.0243335] [-0.05531545]\n",
      "1240 0.0004005813 [1.0231898] [-0.05271585]\n",
      "1260 0.0003638151 [1.0221] [-0.05023843]\n",
      "1280 0.0003304235 [1.0210614] [-0.04787749]\n",
      "1300 0.00030009457 [1.0200713] [-0.04562731]\n",
      "1320 0.0002725489 [1.0191281] [-0.04348281]\n",
      "1340 0.00024753192 [1.0182292] [-0.04143923]\n",
      "1360 0.00022481247 [1.0173725] [-0.03949174]\n",
      "1380 0.0002041806 [1.016556] [-0.03763575]\n",
      "1400 0.00018543743 [1.015778] [-0.035867]\n",
      "1420 0.00016841643 [1.0150365] [-0.03418139]\n",
      "1440 0.00015296008 [1.0143298] [-0.03257498]\n",
      "1460 0.00013892083 [1.0136564] [-0.03104407]\n",
      "1480 0.00012617155 [1.0130146] [-0.02958515]\n",
      "1500 0.000114590955 [1.0124029] [-0.02819477]\n",
      "1520 0.000104073704 [1.0118201] [-0.02686971]\n",
      "1540 9.4520365e-05 [1.0112646] [-0.02560695]\n",
      "1560 8.584516e-05 [1.0107352] [-0.02440351]\n",
      "1580 7.796672e-05 [1.0102308] [-0.02325669]\n",
      "1600 7.081101e-05 [1.0097499] [-0.02216382]\n",
      "1620 6.431156e-05 [1.0092916] [-0.02112217]\n",
      "1640 5.8408168e-05 [1.008855] [-0.02012949]\n",
      "1660 5.3048192e-05 [1.0084388] [-0.01918346]\n",
      "1680 4.817812e-05 [1.0080421] [-0.01828187]\n",
      "1700 4.3755575e-05 [1.0076642] [-0.01742263]\n",
      "1720 3.9739778e-05 [1.0073041] [-0.01660382]\n",
      "1740 3.6092544e-05 [1.0069609] [-0.01582354]\n",
      "1760 3.2780692e-05 [1.0066338] [-0.01507997]\n",
      "1780 2.9771212e-05 [1.0063219] [-0.01437126]\n",
      "1800 2.7038897e-05 [1.0060248] [-0.01369587]\n",
      "1820 2.4557621e-05 [1.0057417] [-0.01305225]\n",
      "1840 2.230409e-05 [1.005472] [-0.01243889]\n",
      "1860 2.025622e-05 [1.0052148] [-0.01185435]\n",
      "1880 1.8397906e-05 [1.0049697] [-0.0112973]\n",
      "1900 1.6709198e-05 [1.0047362] [-0.01076639]\n",
      "1920 1.5175407e-05 [1.0045136] [-0.01026041]\n",
      "1940 1.3782191e-05 [1.0043014] [-0.0097782]\n",
      "1960 1.2517582e-05 [1.0040994] [-0.00931866]\n",
      "1980 1.1368535e-05 [1.0039067] [-0.00888073]\n"
     ]
    }
   ],
   "source": [
    "#build graph: H(x)=Wx+b\n",
    "x_train = [1, 2, 3]\n",
    "y_train = [1, 2, 3]\n",
    "\n",
    "W = tf.Variable(tf.random.normal([1]), name='weight') #random한 값을 1차원으로 줌\n",
    "b = tf.Variable(tf.random.normal([1]), name='bias')\n",
    "\n",
    "#가설 함수 정의\n",
    "def hypothesis(x):\n",
    "    return x*W + b #our hypothesis XW+b\n",
    "\n",
    "#cost/loss function\n",
    "def loss_function(hypothesis, y):\n",
    "    return tf.reduce_mean(tf.square(hypothesis-y_train)) #square: 제곱, reduce_mean: 평균\n",
    "\n",
    "#gradient descent: minimize cost\n",
    "optimizer = tf.optimizers.SGD(learning_rate=0.01)\n",
    "#train = optimizer.minimize(cost) tensorflow 2.x에서는 minimize 사용안됨\n",
    "\n",
    "# 학습\n",
    "epochs = 2000\n",
    "for step in range(epochs):\n",
    "    # Gradient 계산 및 변수 업데이트\n",
    "    with tf.GradientTape() as tape:\n",
    "        current_loss = loss_function(hypothesis(x_train), y_train)\n",
    "    gradients = tape.gradient(current_loss, [W, b])\n",
    "    optimizer.apply_gradients(zip(gradients, [W, b]))\n",
    "    \n",
    "    # 로그 출력\n",
    "    if step % 20 == 0:\n",
    "        print(step, current_loss.numpy(), W.numpy(), b.numpy())\n"
   ]
  },
  {
   "cell_type": "markdown",
   "metadata": {},
   "source": [
    "결과\n",
    "정답: W=1, b=0\n",
    "loss가 점점 줄어들고 W=1에, b=0에 수렴함"
   ]
  },
  {
   "cell_type": "markdown",
   "metadata": {},
   "source": [
    "3. linear regresson의 cost 최소화의 TensorFlow 구현"
   ]
  },
  {
   "cell_type": "code",
   "execution_count": null,
   "metadata": {},
   "outputs": [],
   "source": [
    "import tensorflow as tf\n",
    "import matplotlib.pyplot as plt\n",
    "\n",
    "X = [1, 2, 3]\n",
    "Y = [1, 2, 3]\n",
    "\n",
    "W = tf.Variable(tf.random.normal([1]), name='weight')\n",
    "hypothesis = X * W\n",
    "\n",
    "cost = tf.reduce_mean(tf.square(hypothesis - Y))\n",
    "optimizer = tf.optimizers.SGD(learning_rate=0.01)\n",
    "\n",
    "W_val = []\n",
    "cost_val = []\n",
    "\n",
    "for i in range(-30, 50):\n",
    "    feed_W = i * 0.1\n",
    "    W.assign([feed_W])\n",
    "    curr_cost = cost.numpy()\n",
    "    curr_W = W.numpy()[0]\n",
    "    W_val.append(curr_W)\n",
    "    cost_val.append(curr_cost)\n",
    "\n",
    "plt.plot(W_val, cost_val)\n",
    "plt.xlabel('W')\n",
    "plt.ylabel('Cost')\n",
    "plt.title('Cost vs. W')\n",
    "plt.show()"
   ]
  }
 ],
 "metadata": {
  "kernelspec": {
   "display_name": "base",
   "language": "python",
   "name": "python3"
  },
  "language_info": {
   "codemirror_mode": {
    "name": "ipython",
    "version": 3
   },
   "file_extension": ".py",
   "mimetype": "text/x-python",
   "name": "python",
   "nbconvert_exporter": "python",
   "pygments_lexer": "ipython3",
   "version": "3.11.3"
  },
  "orig_nbformat": 4
 },
 "nbformat": 4,
 "nbformat_minor": 2
}
